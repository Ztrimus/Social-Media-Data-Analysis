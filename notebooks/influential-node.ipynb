{
 "cells": [
  {
   "cell_type": "code",
   "execution_count": 6,
   "metadata": {},
   "outputs": [],
   "source": [
    "# https://github.com/iannellif/viralrank_centrality/blob/master/vrank.py\n",
    "# https://physics.paperswithcode.com/paper/influencers-identification-in-complex\n",
    "\n",
    "# https://github.com/asalavaty/python-influential/tree/main\n",
    "\n",
    "# https://influential.erc.monash.edu/\n",
    "\n",
    "import json\n",
    "import numpy as np\n",
    "import networkx as nx\n",
    "from tqdm import tqdm"
   ]
  },
  {
   "cell_type": "code",
   "execution_count": 7,
   "metadata": {},
   "outputs": [
    {
     "name": "stdout",
     "output_type": "stream",
     "text": [
      "Total no. of node: 300\n",
      "connected nodes: 298\n"
     ]
    }
   ],
   "source": [
    "# Open the JSON file in read mode\n",
    "json_file_path = \"/home/saurabh/AAA/Convergent/Projects/social-media-data-analysis/data/final_data.json\"\n",
    "with open(json_file_path, \"r\") as json_file:\n",
    "    data = json.load(json_file)\n",
    "\n",
    "print(f\"Total no. of node: {len(data)}\")\n",
    "\n",
    "# Initialize a directed graph for the Friendship Network\n",
    "G = nx.DiGraph()\n",
    "\n",
    "relational_data = []\n",
    "for user in data:\n",
    "    if len(user['followers']) or len(user['followings']):\n",
    "        relational_data.append(user)\n",
    "\n",
    "print(f\"connected nodes: {len(relational_data)}\")\n",
    "data = list(relational_data)\n",
    "\n",
    "# Add nodes (users) to the graph\n",
    "for user in data:\n",
    "    username = user['username']\n",
    "    G.add_node(username)\n",
    "    G.nodes[username]['metadata'] = user\n",
    "\n",
    "# Add directed edges based on follower and followee relationships\n",
    "for user in data:\n",
    "    username = user['username']\n",
    "    followings = user['followings']  # Assuming 'followings' contains user IDs being followed\n",
    "    for following_user_id in followings:\n",
    "        following_user = next((x for x in data if x['id'] == following_user_id), None)\n",
    "        if following_user:\n",
    "            following_username = following_user['username']\n",
    "            G.add_edge(username, following_username)"
   ]
  },
  {
   "cell_type": "code",
   "execution_count": 8,
   "metadata": {},
   "outputs": [
    {
     "name": "stdout",
     "output_type": "stream",
     "text": [
      "{'molly0xfff': 1, 'pluralistic': 3, 'jeffjarvis': 2, 'erictopol': 4, 'timnitGebru': 4, 'dangillmor': 0, 'ryanhoulihan': 0, 'TheConversationUS': 2, 'emilymbender': 1, 'racheltobac': 3, 'carnage4life': 2, 'tinker': 4, 'glennf': 1, 'Mer__edith': 3, 'parismarx': 2, 'Riedl': 2, 'openrightsgroup': 3, 'TechDesk': 2, 'DAIR': 5, 'mmitchell_ai': 7, 'davidpierce': 1, 'alex': 1, 'PCMag': 2, 'longreads': 3, 'thegradient': 1, 'EDPS': 2, 'Ailantd': 2, 'glynmoody': 2, 'ben': 5, 'garymarcus': 3, 'CultureDesk': 2, 'farhanasultana': 0, 'MattHodges': 7, 'LukaszOlejnik': 1, 'karenhao': 3, 'lightweight': 5, 'Iris': 5, 'janeadams': 6, 'adfichter': 1, 'forgejo': 1, 'annika': 1, 'olivia': 1, 'smach': 4, 'Forbes': 2, 'fgusmao': 3, 'jaredwhite': 2, 'philosophy': 1, 'deonandan': 2, 'revkin': 8, 'dweinberger': 7, 'docpop': 3, 'b9AcE': 2, 'reichenstein': 1, 'tyrell_turing': 1, 'Wikisteff': 4, 'sethlazar': 4, 'metin': 2, 'axbom': 2, 'jesper': 2, 'garry': 5, 'JorgeOMau': 1, 'dznz': 1, 'JL_Lycette': 6, 'omearabrian': 1, 'persagen': 6, 'marichal': 4, 'Homebrewandhacking': 2, 'PaulNemitz': 5, 'marianods': 1, 'moshboy': 2, 'botwiki': 1, 'AirmindedAI': 2, 'allafarce': 2, 'reiver': 3, 'airidescence': 1, 'mattjhodgkinson': 4, 'susankayequinn': 4, 'flavioazevedo': 6, 'jasonkoebler': 2, 'chema': 2, 'bobjmsn': 2, 'mmin': 3, 'danmcquillan': 2, 'forumstandaardisatie': 1, 'keithwilson': 1, 'Mina': 2, 'ilyaz': 0, 'michaelzimmer': 5, 'analyticus': 5, 'devontechnologies': 2, 'gpollara': 2, 'JustCodeCulture': 4, 'inkican': 4, 'technewslit': 3, 'BenjaminHCCarr': 2, 'dahukanna': 0, 'j2bryson': 11, 'bibliotecaria': 6, 'kdpsingh': 1, 'EDPS_supervisor': 1, 'EvolOdonata': 1, 'Downes': 3, 'calebcrain': 5, 'NeuripsConf': 2, 'herhandsmyhands': 1, 'matt': 4, 'SantiagoSainz': 1, 'Leonyin': 0, 'hobs': 5, 'mheadd': 0, 'kwerb': 7, 'upol': 4, 'lornajane': 1, 'FORRT': 3, 'AirlineReporter': 1, 'remixtures': 4, 'pixplz': 1, 'daviddlevine': 1, 'wfryer': 3, 'bwaber': 5, 'alexandrageese': 1, 'jbzfn': 1, 'psmaldino': 3, 'Tribo': 4, 'davidmortensen': 3, 'neuroscience': 1, 'ukrio': 5, 'shiwali': 1, 'ttiurani': 1, 'AdamMackay': 1, 'matthewrbroome': 2, 'kurtsh': 1, 'davdittrich': 1, 'tarkowski': 2, 'deborahh': 2, 'charlesmok': 2, 'openfuture': 3, 'dcm': 3, 'edk': 1, 'Cassandra': 1, 'ArenaCops': 0, 'williamgunn': 6, 'douglevin': 2, 'CIA': 1, 'dltj': 2, 'bio_diverse': 2, 'jwilker': 4, 'Miro_Collas': 3, 'hessiej': 3, 'serenissimaj': 1, 'tjradcliffe': 2, 'TryshHQ': 3, 'emmaByrneAuthor': 1, 'ErrantCanadian': 3, 'databasecultures': 0, 'stablehorde': 3, 'DFKI': 1, 'jmnw': 2, 'psb_dc': 2, 'realcaseyrollins': 1, 'SteveThompson': 3, 'stevesplace': 2, 'echanda': 3, 'AIandGames': 3, 'wrubens': 0, 'AdaLovelaceInst': 2, 'BeAware': 6, 'sfphotogirl': 1, 'annaldavis': 1, 'hidden': 5, 'dawnnafus': 9, 'asayeed': 2, 'Ch_Hogberg': 1, 'haritulsidas': 1, 'DavBot': 1, 'micwieczorek': 5, 'gdm': 7, 'euractiv_tech': 1, 'StephanieMoore': 1, 'JohnSullivan': 2, 'SailorDisco': 1, 'JacquesBellon': 1, 'berndporr': 0, 'kgajos': 2, 'geoffcain': 3, 'mviktoro': 5, 'dh_potsdam': 1, 'Scofisticated': 1, 'signalthirteen': 3, 'HumanServitor': 3, 'CorinnaBalkow': 3, 'mlk': 2, 'facct': 5, 'borhane': 2, 'researchinenglish': 4, 'PFCOGAN': 0, 'czernie': 4, 'mitexleo': 0, 'kilasuit': 2, 'aim4dem': 1, 'Jigsaw_You': 3, 'ainews': 2, 'ai4good': 2, 'pollybrocket': 2, 'synlogic': 1, 'SandraWachter': 1, 'peter': 2, 'alfredo': 1, 'lupposofi': 0, 'dwaynemonroe': 1, 'Air101': 2, 'gvlx': 0, 'MoBlack': 0, 'Dominic_Tyer': 1, 'WriterOfMinds': 1, 'mariaq': 1, 'AiraVI': 1, 'tomstoneham': 1, 'firusvg': 3, 'TSAguilar46': 3, 'radicalaipod': 2, 'daanvanesch': 4, 'Polynomial_C': 1, 'solalnathan': 0, 'mymarkup': 1, 'asiabiega': 1, 'jenslehmann': 2, 'fornax': 0, 'bornach': 1, 'BtcNews': 1, 'AI4Life': 2, 'krishnadeltoso': 1, 'gtbarry': 0, 'jmcastagnetto': 2, 'manlycoffee': 1, 'bobmueller': 1, 'TerryHunter': 0, 'techphotoguy': 0, 'jburton123': 1, 'eternaltyro': 1, 'alhufton': 2, 'anselmolucio': 1, 'badgergravling': 2, 'alkatandan': 1, 'aiaiaistyle': 3, 'OmaymaS': 1, 'rekkerd': 1, 'wesleybond': 1, 'emmiehine': 2, 'aian': 1, 'sextechguide': 1, 'ashdragon': 1, 'aijobs': 1, 'Renatomancer': 1, 'maryparks': 1, 'jweisz': 1, 'BondiElizabeth': 1, 'ang3linawang': 2, 'edtechsr': 1, 'OpenForum': 1, 'sbonet': 2, 'FilmFashionForum': 0, 'schneier': 1, 'ethics': 1, 'tomorrowsAI': 2, 'paul_ward_irl': 2, 'technews24h': 2, 'techprophet': 1, 'WomeninAIethics': 1, 'alexzap': 0, 'robmakesthings': 1, 'aaroth': 0, 'AJFish': 1, 'umutpajaro': 1, 'EurRadiology': 1, 'animasuri': 0, 'AixDesire': 1, 'lernos-ai': 1, '100mountains': 2, 'ai': 1, 'ekapros': 0, 'atomax': 0, 'andrewconn': 0, 'jesparent': 0, 'KiNews': 0, 'fastdatascience': 2, 'biancawylie': 1, 'homestudiodad': 1, 'michaelmillerjr': 0, 'iwe_bonn': 0, 'pwaller99': 1, 'intelviews': 1, 'JohnnyBeerT': 1, 'SemperKI': 0, 'davisinstai': 1, 'Sagorika': 1, 'Baessler_Rad': 1}\n"
     ]
    }
   ],
   "source": [
    "in_degree = dict(G.in_degree())\n",
    "print(in_degree)"
   ]
  },
  {
   "cell_type": "code",
   "execution_count": 9,
   "metadata": {},
   "outputs": [
    {
     "name": "stdout",
     "output_type": "stream",
     "text": [
      "{'molly0xfff': 0, 'pluralistic': 1, 'jeffjarvis': 9, 'erictopol': 0, 'timnitGebru': 0, 'dangillmor': 5, 'ryanhoulihan': 40, 'TheConversationUS': 2, 'emilymbender': 0, 'racheltobac': 0, 'carnage4life': 0, 'tinker': 0, 'glennf': 0, 'Mer__edith': 0, 'parismarx': 0, 'Riedl': 0, 'openrightsgroup': 0, 'TechDesk': 4, 'DAIR': 0, 'mmitchell_ai': 3, 'davidpierce': 1, 'alex': 1, 'PCMag': 0, 'longreads': 0, 'thegradient': 0, 'EDPS': 0, 'Ailantd': 0, 'glynmoody': 5, 'ben': 6, 'garymarcus': 1, 'CultureDesk': 1, 'farhanasultana': 4, 'MattHodges': 4, 'LukaszOlejnik': 3, 'karenhao': 0, 'lightweight': 1, 'Iris': 0, 'janeadams': 4, 'adfichter': 0, 'forgejo': 0, 'annika': 0, 'olivia': 0, 'smach': 1, 'Forbes': 0, 'fgusmao': 54, 'jaredwhite': 0, 'philosophy': 0, 'deonandan': 0, 'revkin': 0, 'dweinberger': 6, 'docpop': 2, 'b9AcE': 0, 'reichenstein': 0, 'tyrell_turing': 0, 'Wikisteff': 9, 'sethlazar': 3, 'metin': 0, 'axbom': 3, 'jesper': 0, 'garry': 0, 'JorgeOMau': 0, 'dznz': 0, 'JL_Lycette': 1, 'omearabrian': 10, 'persagen': 68, 'marichal': 2, 'Homebrewandhacking': 0, 'PaulNemitz': 0, 'marianods': 0, 'moshboy': 0, 'botwiki': 0, 'AirmindedAI': 0, 'allafarce': 0, 'reiver': 5, 'airidescence': 0, 'mattjhodgkinson': 4, 'susankayequinn': 0, 'flavioazevedo': 1, 'jasonkoebler': 2, 'chema': 0, 'bobjmsn': 0, 'mmin': 1, 'danmcquillan': 0, 'forumstandaardisatie': 0, 'keithwilson': 0, 'Mina': 2, 'ilyaz': 4, 'michaelzimmer': 3, 'analyticus': 10, 'devontechnologies': 0, 'gpollara': 1, 'JustCodeCulture': 5, 'inkican': 3, 'technewslit': 0, 'BenjaminHCCarr': 1, 'dahukanna': 3, 'j2bryson': 4, 'bibliotecaria': 0, 'kdpsingh': 4, 'EDPS_supervisor': 0, 'EvolOdonata': 0, 'Downes': 4, 'calebcrain': 1, 'NeuripsConf': 0, 'herhandsmyhands': 0, 'matt': 2, 'SantiagoSainz': 0, 'Leonyin': 1, 'hobs': 2, 'mheadd': 1, 'kwerb': 3, 'upol': 0, 'lornajane': 0, 'FORRT': 1, 'AirlineReporter': 0, 'remixtures': 1, 'pixplz': 0, 'daviddlevine': 0, 'wfryer': 0, 'bwaber': 2, 'alexandrageese': 0, 'jbzfn': 4, 'psmaldino': 0, 'Tribo': 3, 'davidmortensen': 1, 'neuroscience': 0, 'ukrio': 3, 'shiwali': 0, 'ttiurani': 0, 'AdamMackay': 0, 'matthewrbroome': 1, 'kurtsh': 0, 'davdittrich': 0, 'tarkowski': 0, 'deborahh': 0, 'charlesmok': 2, 'openfuture': 1, 'dcm': 4, 'edk': 4, 'Cassandra': 0, 'ArenaCops': 1, 'williamgunn': 4, 'douglevin': 0, 'CIA': 0, 'dltj': 1, 'bio_diverse': 0, 'jwilker': 1, 'Miro_Collas': 0, 'hessiej': 0, 'serenissimaj': 0, 'tjradcliffe': 0, 'TryshHQ': 17, 'emmaByrneAuthor': 0, 'ErrantCanadian': 1, 'databasecultures': 2, 'stablehorde': 0, 'DFKI': 0, 'jmnw': 1, 'psb_dc': 2, 'realcaseyrollins': 0, 'SteveThompson': 0, 'stevesplace': 3, 'echanda': 0, 'AIandGames': 0, 'wrubens': 1, 'AdaLovelaceInst': 0, 'BeAware': 2, 'sfphotogirl': 0, 'annaldavis': 0, 'hidden': 2, 'dawnnafus': 7, 'asayeed': 2, 'Ch_Hogberg': 2, 'haritulsidas': 0, 'DavBot': 0, 'micwieczorek': 4, 'gdm': 7, 'euractiv_tech': 0, 'StephanieMoore': 1, 'JohnSullivan': 1, 'SailorDisco': 1, 'JacquesBellon': 1, 'berndporr': 3, 'kgajos': 1, 'geoffcain': 9, 'mviktoro': 7, 'dh_potsdam': 0, 'Scofisticated': 0, 'signalthirteen': 1, 'HumanServitor': 8, 'CorinnaBalkow': 1, 'mlk': 0, 'facct': 0, 'borhane': 2, 'researchinenglish': 7, 'PFCOGAN': 12, 'czernie': 12, 'mitexleo': 6, 'kilasuit': 1, 'aim4dem': 0, 'Jigsaw_You': 0, 'ainews': 0, 'ai4good': 1, 'pollybrocket': 1, 'synlogic': 0, 'SandraWachter': 0, 'peter': 0, 'alfredo': 0, 'lupposofi': 1, 'dwaynemonroe': 0, 'Air101': 0, 'gvlx': 1, 'MoBlack': 1, 'Dominic_Tyer': 0, 'WriterOfMinds': 0, 'mariaq': 2, 'AiraVI': 0, 'tomstoneham': 1, 'firusvg': 2, 'TSAguilar46': 6, 'radicalaipod': 0, 'daanvanesch': 3, 'Polynomial_C': 1, 'solalnathan': 1, 'mymarkup': 4, 'asiabiega': 1, 'jenslehmann': 1, 'fornax': 1, 'bornach': 0, 'BtcNews': 0, 'AI4Life': 0, 'krishnadeltoso': 0, 'gtbarry': 1, 'jmcastagnetto': 1, 'manlycoffee': 0, 'bobmueller': 0, 'TerryHunter': 1, 'techphotoguy': 1, 'jburton123': 0, 'eternaltyro': 1, 'alhufton': 3, 'anselmolucio': 2, 'badgergravling': 2, 'alkatandan': 0, 'aiaiaistyle': 0, 'OmaymaS': 0, 'rekkerd': 0, 'wesleybond': 0, 'emmiehine': 0, 'aian': 0, 'sextechguide': 0, 'ashdragon': 0, 'aijobs': 0, 'Renatomancer': 1, 'maryparks': 1, 'jweisz': 0, 'BondiElizabeth': 0, 'ang3linawang': 2, 'edtechsr': 0, 'OpenForum': 0, 'sbonet': 4, 'FilmFashionForum': 2, 'schneier': 0, 'ethics': 0, 'tomorrowsAI': 0, 'paul_ward_irl': 6, 'technews24h': 4, 'techprophet': 1, 'WomeninAIethics': 0, 'alexzap': 12, 'robmakesthings': 1, 'aaroth': 1, 'AJFish': 1, 'umutpajaro': 0, 'EurRadiology': 1, 'animasuri': 4, 'AixDesire': 1, 'lernos-ai': 0, '100mountains': 2, 'ai': 0, 'ekapros': 4, 'atomax': 1, 'andrewconn': 6, 'jesparent': 1, 'KiNews': 4, 'fastdatascience': 18, 'biancawylie': 0, 'homestudiodad': 1, 'michaelmillerjr': 7, 'iwe_bonn': 3, 'pwaller99': 0, 'intelviews': 0, 'JohnnyBeerT': 0, 'SemperKI': 1, 'davisinstai': 0, 'Sagorika': 0, 'Baessler_Rad': 1}\n"
     ]
    }
   ],
   "source": [
    "out_degree = dict(G.out_degree())\n",
    "print(out_degree)"
   ]
  },
  {
   "cell_type": "code",
   "execution_count": 12,
   "metadata": {},
   "outputs": [
    {
     "ename": "AttributeError",
     "evalue": "module 'community' has no attribute 'best_partition'",
     "output_type": "error",
     "traceback": [
      "\u001b[0;31m---------------------------------------------------------------------------\u001b[0m",
      "\u001b[0;31mAttributeError\u001b[0m                            Traceback (most recent call last)",
      "\u001b[1;32m/home/saurabh/AAA/Convergent/Projects/social-media-data-analysis/notebooks/influential-node.ipynb Cell 5\u001b[0m line \u001b[0;36m4\n\u001b[1;32m      <a href='vscode-notebook-cell:/home/saurabh/AAA/Convergent/Projects/social-media-data-analysis/notebooks/influential-node.ipynb#W4sZmlsZQ%3D%3D?line=0'>1</a>\u001b[0m \u001b[39mimport\u001b[39;00m \u001b[39mcommunity\u001b[39;00m \u001b[39mas\u001b[39;00m \u001b[39mcommunity_louvain\u001b[39;00m\n\u001b[1;32m      <a href='vscode-notebook-cell:/home/saurabh/AAA/Convergent/Projects/social-media-data-analysis/notebooks/influential-node.ipynb#W4sZmlsZQ%3D%3D?line=2'>3</a>\u001b[0m \u001b[39m# Calculate the modularity of the graph\u001b[39;00m\n\u001b[0;32m----> <a href='vscode-notebook-cell:/home/saurabh/AAA/Convergent/Projects/social-media-data-analysis/notebooks/influential-node.ipynb#W4sZmlsZQ%3D%3D?line=3'>4</a>\u001b[0m partition \u001b[39m=\u001b[39m community_louvain\u001b[39m.\u001b[39;49mbest_partition(G)\n\u001b[1;32m      <a href='vscode-notebook-cell:/home/saurabh/AAA/Convergent/Projects/social-media-data-analysis/notebooks/influential-node.ipynb#W4sZmlsZQ%3D%3D?line=4'>5</a>\u001b[0m modularity \u001b[39m=\u001b[39m community_louvain\u001b[39m.\u001b[39mmodularity(partition, G)\n\u001b[1;32m      <a href='vscode-notebook-cell:/home/saurabh/AAA/Convergent/Projects/social-media-data-analysis/notebooks/influential-node.ipynb#W4sZmlsZQ%3D%3D?line=5'>6</a>\u001b[0m \u001b[39mprint\u001b[39m(modularity)\n",
      "\u001b[0;31mAttributeError\u001b[0m: module 'community' has no attribute 'best_partition'"
     ]
    }
   ],
   "source": [
    "import community as community_louvain\n",
    "\n",
    "# Calculate the modularity of the graph\n",
    "partition = community_louvain.best_partition(G)\n",
    "modularity = community_louvain.modularity(partition, G)\n",
    "print(modularity)"
   ]
  },
  {
   "cell_type": "code",
   "execution_count": 4,
   "metadata": {},
   "outputs": [],
   "source": [
    "class ViralRank:\n",
    "    \n",
    "    def __init__(self,graph):\n",
    "        self.graph = graph\n",
    "       \n",
    "        \n",
    "    def value(self, inversetemp = 1e-4):\n",
    "        \"\"\"\n",
    "        Compute the ViralRank centrality index from:\n",
    "        F. Iannelli, M.S. Mariani, I.M. Sokolov \n",
    "        \"Influencers identification in complex networks through reaction-diffusion dynamics\"\n",
    "        (https://arxiv.org/abs/1803.01212)\n",
    "        Viralrank is defined as (note that the minus sign implies negative scores): \n",
    "        v(lambda) = - \\sum_j (D_{ij} + D_{ji})/N\n",
    "        where D_{ij} is the random-walk effective distance [Iannelli at al. Phys. Rev. E 95, 012313 (2017)] \n",
    "        from i to j and lambda is a parameter that plays the role of the inverse temperature (see next), \n",
    "        while N is the number of nodes.\n",
    "        \n",
    "        Parameters\n",
    "        --------\n",
    "                \n",
    "            inversetemp : float\n",
    "                numerical parameter (lambda) necessary for the computation of ViralRank centrality\n",
    "                for metapopulation models. It is defined as:\n",
    "                    lambda = log[ (beta-mu)/alpha ] - gamma\n",
    "                where beta, mu and alpha are the infection, recovery and  \n",
    "                diffusion rates, respectively, while gamma is the Euler constant.\n",
    "                For contact networks its value is set equal to (approximately) zero corresponding\n",
    "                to a high temperature expansion, while it can be specifically tuned \n",
    "                for metapopulation networks uisng the above definition.\n",
    "                  \n",
    "                \n",
    "        Returns:\n",
    "        --------\n",
    "        \n",
    "            nodes' ViralRank score : ndarray\n",
    "                \n",
    "        \"\"\"           \n",
    "        \n",
    "        # assert nx.is_connected(self.graph), \"The network has to be connected\" \n",
    "        assert inversetemp > 0, \"Negative temperature\"\n",
    "        A = np.asarray(nx.to_numpy_array(self.graph, dtype=float, weight=None).T)\n",
    "        A = np.asarray(nx.to_numpy_array(self.graph, dtype=float, weight=None).T)\n",
    "        # print(\"The graph is directed:\", nx.is_directed(G))\n",
    "        #N = g.number_of_nodes()\n",
    "        s = A.sum(1)\n",
    "        P = (A.T/s).T\n",
    "        #print(\"sum over columns of P\", P.sum(1))  \n",
    "        s = A.sum(1)\n",
    "        #assert np.all(s) > 0, \"The network has to be connected\"\n",
    "        P = (A.T/s).T        \n",
    "        assert np.all(np.isclose(P.sum(axis=1), 1, rtol=1e-10)), \"Non valid transition matrix\" \n",
    "        \n",
    "        \n",
    "        self.nodes = self.graph.number_of_nodes()\n",
    "        targets = range(self.nodes)\n",
    "               \n",
    "        I = np.eye( self.nodes-1,self.nodes-1 )\n",
    "        Z = np.ones( (self.nodes, self.nodes) )\n",
    "        D = np.zeros( (self.nodes, self.nodes) )\n",
    "        for j in tqdm(targets): \n",
    "            Pm = np.delete(P,j,0) \n",
    "            Pm = np.delete(Pm,j,1) \n",
    "            pm = P[:,j]  \n",
    "            pm = np.delete(pm,j) \n",
    "            z = np.linalg.solve((np.exp(inversetemp)*I-Pm), pm)\n",
    "            Z[:,j] = np.insert(z,j,1)\n",
    "            D[:,j] = -np.log(Z[:,j])\n",
    "        \n",
    "        v = -1./self.nodes * (D.sum(1)+D.sum(0)) \n",
    "        \n",
    "        return v  \n",
    "    \n",
    "    def rank(self, inversetemp = 1e-4):\n",
    "        \n",
    "        values = self.value()\n",
    "        return np.argsort(values)"
   ]
  },
  {
   "cell_type": "code",
   "execution_count": 5,
   "metadata": {},
   "outputs": [
    {
     "name": "stderr",
     "output_type": "stream",
     "text": [
      "  0%|          | 0/297 [00:00<?, ?it/s]/tmp/ipykernel_77650/3290071297.py:68: RuntimeWarning: divide by zero encountered in log\n",
      "  D[:,j] = -np.log(Z[:,j])\n",
      "100%|██████████| 297/297 [00:02<00:00, 110.67it/s]\n"
     ]
    }
   ],
   "source": [
    "rank_result = ViralRank(G)"
   ]
  },
  {
   "cell_type": "code",
   "execution_count": 6,
   "metadata": {},
   "outputs": [
    {
     "data": {
      "text/plain": [
       "array([  0, 200, 199, 198, 197, 196, 195, 201, 194, 192, 191, 190, 189,\n",
       "       188, 187, 193, 202, 203, 204, 219, 218, 217, 216, 215, 214, 213,\n",
       "       212, 211, 210, 209, 208, 207, 206, 205, 186, 220, 185, 183, 163,\n",
       "       162, 161, 160, 159, 158, 164, 157, 155, 154, 153, 152, 151, 150,\n",
       "       156, 165, 166, 167, 182, 181, 180, 179, 178, 177, 176, 175, 174,\n",
       "       173, 172, 171, 170, 169, 168, 184, 221, 222, 223, 275, 274, 273,\n",
       "       272, 271, 270, 276, 269, 267, 266, 265, 264, 263, 262, 268, 277,\n",
       "       278, 279, 294, 293, 292, 291, 290, 289, 288, 287, 286, 285, 284,\n",
       "       283, 282, 281, 280, 261, 260, 259, 258, 238, 237, 236, 235, 234,\n",
       "       233, 232, 231, 230, 229, 228, 227, 226, 225, 224, 239, 149, 240,\n",
       "       242, 257, 256, 255, 254, 253, 252, 251, 250, 249, 248, 247, 246,\n",
       "       245, 244, 243, 241, 295, 148, 146,  51,  50,  49,  48,  47,  46,\n",
       "        52,  45,  43,  42,  41,  40,  39,  38,  44,  53,  54,  55,  70,\n",
       "        69,  68,  67,  66,  65,  64,  63,  62,  61,  60,  59,  58,  57,\n",
       "        56,  37,  71,  36,  34,  14,  13,  12,  11,  10,   9,  15,   8,\n",
       "         6,   5,   4,   3,   2,   1,   7,  16,  17,  18,  33,  32,  31,\n",
       "        30,  29,  28,  27,  26,  25,  24,  23,  22,  21,  20,  19,  35,\n",
       "        72,  73,  74, 126, 125, 124, 123, 122, 121, 127, 120, 118, 117,\n",
       "       116, 115, 114, 113, 119, 128, 129, 130, 145, 144, 143, 142, 141,\n",
       "       140, 139, 138, 137, 136, 135, 134, 133, 132, 131, 112, 111, 110,\n",
       "       109,  89,  88,  87,  86,  85,  84,  83,  82,  81,  80,  79,  78,\n",
       "        77,  76,  75,  90, 147,  91,  93, 108, 107, 106, 105, 104, 103,\n",
       "       102, 101, 100,  99,  98,  97,  96,  95,  94,  92, 296])"
      ]
     },
     "execution_count": 6,
     "metadata": {},
     "output_type": "execute_result"
    }
   ],
   "source": [
    "rank_result.rank()"
   ]
  },
  {
   "cell_type": "code",
   "execution_count": 253,
   "metadata": {},
   "outputs": [],
   "source": [
    "for i,j in enumerate(G.nodes()):\n",
    "    G.nodes[j]['rank'] = rank_nodes[i]"
   ]
  },
  {
   "cell_type": "code",
   "execution_count": 255,
   "metadata": {},
   "outputs": [],
   "source": [
    "import influential"
   ]
  },
  {
   "cell_type": "code",
   "execution_count": 256,
   "metadata": {},
   "outputs": [
    {
     "ename": "AttributeError",
     "evalue": "'Graph' object has no attribute 'vs'",
     "output_type": "error",
     "traceback": [
      "\u001b[0;31m---------------------------------------------------------------------------\u001b[0m",
      "\u001b[0;31mAttributeError\u001b[0m                            Traceback (most recent call last)",
      "\u001b[1;32m/home/saurabh/AAA/Focusing/Projects/social-media-data-analysis/notebooks/influential-node.ipynb Cell 9\u001b[0m line \u001b[0;36m1\n\u001b[0;32m----> <a href='vscode-notebook-cell:/home/saurabh/AAA/Focusing/Projects/social-media-data-analysis/notebooks/influential-node.ipynb#Y102sZmlsZQ%3D%3D?line=0'>1</a>\u001b[0m influential\u001b[39m.\u001b[39;49mivi(G)\n",
      "File \u001b[0;32m~/.cache/pypoetry/virtualenvs/social_media_data_analysis-Ac8B8BYa-py3.10/lib/python3.10/site-packages/influential/centrality.py:666\u001b[0m, in \u001b[0;36mivi\u001b[0;34m(graph, vertices, weights, directed, mode, loops, d, scale, verbose)\u001b[0m\n\u001b[1;32m    664\u001b[0m \u001b[39m# Preparing the node names\u001b[39;00m\n\u001b[1;32m    665\u001b[0m \u001b[39mif\u001b[39;00m vertices \u001b[39mis\u001b[39;00m \u001b[39mNone\u001b[39;00m:\n\u001b[0;32m--> 666\u001b[0m     vertices \u001b[39m=\u001b[39m graph\u001b[39m.\u001b[39;49mvs\n\u001b[1;32m    668\u001b[0m \u001b[39mif\u001b[39;00m \u001b[39misinstance\u001b[39m(vertices, igraph\u001b[39m.\u001b[39mVertexSeq):\n\u001b[1;32m    669\u001b[0m     node_names \u001b[39m=\u001b[39m vertices[\u001b[39m'\u001b[39m\u001b[39mname\u001b[39m\u001b[39m'\u001b[39m]\n",
      "\u001b[0;31mAttributeError\u001b[0m: 'Graph' object has no attribute 'vs'"
     ]
    }
   ],
   "source": [
    "influential.ivi(G)"
   ]
  },
  {
   "cell_type": "code",
   "execution_count": 257,
   "metadata": {},
   "outputs": [
    {
     "ename": "AttributeError",
     "evalue": "'Graph' object has no attribute 'vs'",
     "output_type": "error",
     "traceback": [
      "\u001b[0;31m---------------------------------------------------------------------------\u001b[0m",
      "\u001b[0;31mAttributeError\u001b[0m                            Traceback (most recent call last)",
      "\u001b[1;32m/home/saurabh/AAA/Focusing/Projects/social-media-data-analysis/notebooks/influential-node.ipynb Cell 10\u001b[0m line \u001b[0;36m1\n\u001b[0;32m----> <a href='vscode-notebook-cell:/home/saurabh/AAA/Focusing/Projects/social-media-data-analysis/notebooks/influential-node.ipynb#Y103sZmlsZQ%3D%3D?line=0'>1</a>\u001b[0m influential\u001b[39m.\u001b[39;49mcollective_influence(G)\n",
      "File \u001b[0;32m~/.cache/pypoetry/virtualenvs/social_media_data_analysis-Ac8B8BYa-py3.10/lib/python3.10/site-packages/influential/centrality.py:334\u001b[0m, in \u001b[0;36mcollective_influence\u001b[0;34m(graph, vertices, mode, d, verbose)\u001b[0m\n\u001b[1;32m    332\u001b[0m \u001b[39m# Getting the names of vertices\u001b[39;00m\n\u001b[1;32m    333\u001b[0m \u001b[39mif\u001b[39;00m vertices \u001b[39mis\u001b[39;00m \u001b[39mNone\u001b[39;00m:\n\u001b[0;32m--> 334\u001b[0m     vertices \u001b[39m=\u001b[39m graph\u001b[39m.\u001b[39;49mvs\n\u001b[1;32m    336\u001b[0m \u001b[39mif\u001b[39;00m \u001b[39misinstance\u001b[39m(vertices, igraph\u001b[39m.\u001b[39mVertexSeq):\n\u001b[1;32m    337\u001b[0m     node_names \u001b[39m=\u001b[39m vertices[\u001b[39m'\u001b[39m\u001b[39mname\u001b[39m\u001b[39m'\u001b[39m]\n",
      "\u001b[0;31mAttributeError\u001b[0m: 'Graph' object has no attribute 'vs'"
     ]
    }
   ],
   "source": [
    "influential.collective_influence(G)"
   ]
  }
 ],
 "metadata": {
  "kernelspec": {
   "display_name": "social_media_data_analysis-Ac8B8BYa-py3.10",
   "language": "python",
   "name": "python3"
  },
  "language_info": {
   "codemirror_mode": {
    "name": "ipython",
    "version": 3
   },
   "file_extension": ".py",
   "mimetype": "text/x-python",
   "name": "python",
   "nbconvert_exporter": "python",
   "pygments_lexer": "ipython3",
   "version": "3.10.12"
  }
 },
 "nbformat": 4,
 "nbformat_minor": 2
}
