{
 "cells": [
  {
   "cell_type": "code",
   "execution_count": 60,
   "metadata": {},
   "outputs": [],
   "source": [
    "import json\n",
    "import networkx as nx\n",
    "import matplotlib.pyplot as plt"
   ]
  },
  {
   "cell_type": "code",
   "execution_count": 62,
   "metadata": {},
   "outputs": [],
   "source": [
    "# Open the JSON file in read mode\n",
    "with open(\"../data/data.json\", \"r\") as json_file:\n",
    "    users_data = json.load(json_file)\n"
   ]
  },
  {
   "cell_type": "code",
   "execution_count": 63,
   "metadata": {},
   "outputs": [],
   "source": [
    "# Initialize a directed graph\n",
    "G = nx.DiGraph()"
   ]
  },
  {
   "cell_type": "code",
   "execution_count": 65,
   "metadata": {},
   "outputs": [],
   "source": [
    "for user in users_data:\n",
    "    username = user['username']  # Replace 'username' with the actual key in your JSON data\n",
    "    G.add_node(username)"
   ]
  },
  {
   "cell_type": "code",
   "execution_count": 66,
   "metadata": {},
   "outputs": [
    {
     "data": {
      "text/plain": [
       "{'id': 110311105019136953,\n",
       " 'username': 'echanda',\n",
       " 'acct': 'echanda@mstdn.ca',\n",
       " 'display_name': 'Eva Chanda',\n",
       " 'locked': False,\n",
       " 'bot': False,\n",
       " 'discoverable': False,\n",
       " 'group': False,\n",
       " 'created_at': '2023-05-04 00:00:00+00:00',\n",
       " 'note': \"<p>My previous server just disappeared, so I'm starting over from scratch. Sigh. I'll tell you about myself when I'm in a better mood. I promise I'm not a trollbot!!<br>Profile pic: my 8-week-old puppy Artemis, a silver Labrador retriever<br>Banner pic: Temperature in Quebec from 1876 to 2022. Colored vertical stripes show average annual temperatures: blue = coolest, red = warmest. The stripes turn from mainly blue shades, interspersed with a few shades of red, to mostly darker reds, starting in 2000.</p>\",\n",
       " 'url': 'https://mstdn.ca/@echanda',\n",
       " 'avatar': 'https://cdn.masto.host/sigmoidsocial/cache/accounts/avatars/110/311/105/019/136/953/original/4ebb945cfd15e88b.jpg',\n",
       " 'avatar_static': 'https://cdn.masto.host/sigmoidsocial/cache/accounts/avatars/110/311/105/019/136/953/original/4ebb945cfd15e88b.jpg',\n",
       " 'header': 'https://cdn.masto.host/sigmoidsocial/cache/accounts/headers/110/311/105/019/136/953/original/37bc037b65eb0256.png',\n",
       " 'header_static': 'https://cdn.masto.host/sigmoidsocial/cache/accounts/headers/110/311/105/019/136/953/original/37bc037b65eb0256.png',\n",
       " 'followers_count': 426,\n",
       " 'following_count': 596,\n",
       " 'statuses_count': 18704,\n",
       " 'last_status_at': '2023-09-20 00:00:00',\n",
       " 'emojis': [],\n",
       " 'fields': []}"
      ]
     },
     "execution_count": 66,
     "metadata": {},
     "output_type": "execute_result"
    }
   ],
   "source": [
    "users_data[0]"
   ]
  },
  {
   "cell_type": "code",
   "execution_count": null,
   "metadata": {},
   "outputs": [],
   "source": []
  }
 ],
 "metadata": {
  "kernelspec": {
   "display_name": "social_media_data_analysis-Ac8B8BYa-py3.10",
   "language": "python",
   "name": "python3"
  },
  "language_info": {
   "codemirror_mode": {
    "name": "ipython",
    "version": 3
   },
   "file_extension": ".py",
   "mimetype": "text/x-python",
   "name": "python",
   "nbconvert_exporter": "python",
   "pygments_lexer": "ipython3",
   "version": "3.10.12"
  },
  "orig_nbformat": 4
 },
 "nbformat": 4,
 "nbformat_minor": 2
}
