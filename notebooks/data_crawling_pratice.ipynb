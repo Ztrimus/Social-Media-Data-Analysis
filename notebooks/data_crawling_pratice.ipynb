{
 "cells": [
  {
   "cell_type": "code",
   "execution_count": 17,
   "metadata": {},
   "outputs": [],
   "source": [
    "import json\n",
    "import networkx as nx\n",
    "import matplotlib.pyplot as plt"
   ]
  },
  {
   "cell_type": "code",
   "execution_count": null,
   "metadata": {},
   "outputs": [],
   "source": [
    "# Open the JSON file in read mode\n",
    "with open(\"../data/data.json\", \"r\") as json_file:\n",
    "    users_data = json.load(json_file)\n",
    "\n",
    "# Initialize a directed graph\n",
    "G = nx.DiGraph()"
   ]
  },
  {
   "cell_type": "code",
   "execution_count": null,
   "metadata": {},
   "outputs": [],
   "source": [
    "for user in users_data:\n",
    "    username = user['username']  # Replace 'username' with the actual key in your JSON data\n",
    "    G.add_node(username)"
   ]
  }
 ],
 "metadata": {
  "kernelspec": {
   "display_name": "social_media_data_analysis-Ac8B8BYa-py3.10",
   "language": "python",
   "name": "python3"
  },
  "language_info": {
   "codemirror_mode": {
    "name": "ipython",
    "version": 3
   },
   "file_extension": ".py",
   "mimetype": "text/x-python",
   "name": "python",
   "nbconvert_exporter": "python",
   "pygments_lexer": "ipython3",
   "version": "3.10.12"
  },
  "orig_nbformat": 4
 },
 "nbformat": 4,
 "nbformat_minor": 2
}
